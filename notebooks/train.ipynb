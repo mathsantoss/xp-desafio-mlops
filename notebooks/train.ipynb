{
 "cells": [
  {
   "cell_type": "markdown",
   "metadata": {},
   "source": [
    "Description:\n",
    "This datasets is related to red variants of the Portuguese \"Vinho Verde\" wine.The dataset describes the amount of various chemicals present in wine and their effect on it's quality. The datasets can be viewed as classification or regression tasks. The classes are ordered and not balanced (e.g. there are much more normal wines than excellent or poor ones).Your task is to predict the quality of wine using the given data."
   ]
  },
  {
   "cell_type": "markdown",
   "metadata": {},
   "source": [
    "## Import Libs"
   ]
  },
  {
   "cell_type": "code",
   "execution_count": 5,
   "metadata": {},
   "outputs": [],
   "source": [
    "from sklearn.datasets import load_wine\n",
    "from sklearn.model_selection import train_test_split\n",
    "from sklearn.ensemble import RandomForestClassifier\n",
    "from sklearn.linear_model import LogisticRegression\n",
    "from sklearn.metrics import accuracy_score\n",
    "import pickle"
   ]
  },
  {
   "cell_type": "code",
   "execution_count": null,
   "metadata": {},
   "outputs": [],
   "source": [
    "\n",
    "# Carregando o dataset Wine\n",
    "data = load_wine()\n",
    "X = data.data\n",
    "y = data.data[:, 0]\n",
    "\n",
    "# Dividindo em treino e teste\n",
    "X_train, X_test, y_train, y_test = train_test_split(X, y, test_size=0.2, random_state=42)\n",
    "\n",
    "# Treinando um modelo de classificação\n",
    "clf = LogisticRegression()\n",
    "clf.fit(X_train, y_train)\n",
    "\n",
    "# Avaliando o modelo\n",
    "y_pred = clf.predict(X_test)\n",
    "print(f'Accuracy: {accuracy_score(y_test, y_pred)}')\n",
    "\n",
    "# Salvando o modelo treinado\n",
    "with open('model.pkl', 'wb') as f:\n",
    "    pickle.dump(clf, f)\n"
   ]
  },
  {
   "cell_type": "code",
   "execution_count": null,
   "metadata": {},
   "outputs": [],
   "source": [
    "from sklearn.datasets import load_wine\n",
    "from sklearn.model_selection import train_test_split\n",
    "from sklearn.linear_model import LinearRegression\n",
    "from sklearn.metrics import mean_squared_error\n",
    "import numpy as np\n",
    "\n",
    "# Carregar o dataset\n",
    "data = load_wine()\n",
    "\n",
    "# X = Todas as features, exceto 'alcohol'\n",
    "X = data.data[:, 1:]  # Removendo a primeira coluna (teor alcoólico)\n",
    "\n",
    "# y = O target, que será o teor alcoólico (primeira coluna)\n",
    "y = data.data[:, 0]\n",
    "\n",
    "# Dados em treino e teste\n",
    "X_train, X_test, y_train, y_test = train_test_split(X, y, test_size=0.2, random_state=42)\n",
    "\n",
    "# Treina o modelo de regressão linear\n",
    "model = LinearRegression()\n",
    "model.fit(X_train, y_train)\n",
    "\n",
    "# Predict\n",
    "y_pred = model.predict(X_test)\n",
    "\n",
    "# Avalia o modelo\n",
    "mse = mean_squared_error(y_test, y_pred)\n",
    "print(f'Mean Squared Error: {mse}')"
   ]
  },
  {
   "cell_type": "markdown",
   "metadata": {},
   "source": [
    "### Teste"
   ]
  },
  {
   "cell_type": "code",
   "execution_count": null,
   "metadata": {},
   "outputs": [],
   "source": [
    "# Fazer previsão com novos dados (sem o valor de 'alcohol')\n",
    "input_example = np.array([\n",
    "    1.71,   # malic_acid\n",
    "    2.43,   # ash\n",
    "    15.6,   # alcalinity_of_ash\n",
    "    2.0,  # magnesium\n",
    "    2.8,    # total_phenols\n",
    "    3.06,   # flavanoids\n",
    "    0.28,   # nonflavanoid_phenols\n",
    "    2.29,   # proanthocyanins\n",
    "    5,   # color_intensity\n",
    "    1.04,   # hue\n",
    "    3.92,   # od280/od315_of_diluted_wines\n",
    "    1.0  # proline\n",
    "])\n",
    "\n",
    "# Ajustar a forma do array para 2D (1 amostra, 12 features)\n",
    "input_example = input_example.reshape(1, -1)\n",
    "\n",
    "# Fazer a previsão\n",
    "new_prediction = model.predict(input_example)\n",
    "print(f'Previsão do teor de álcool: {new_prediction}')"
   ]
  }
 ],
 "metadata": {
  "kernelspec": {
   "display_name": "mlops",
   "language": "python",
   "name": "python3"
  },
  "language_info": {
   "codemirror_mode": {
    "name": "ipython",
    "version": 3
   },
   "file_extension": ".py",
   "mimetype": "text/x-python",
   "name": "python",
   "nbconvert_exporter": "python",
   "pygments_lexer": "ipython3",
   "version": "3.11.0"
  }
 },
 "nbformat": 4,
 "nbformat_minor": 2
}
